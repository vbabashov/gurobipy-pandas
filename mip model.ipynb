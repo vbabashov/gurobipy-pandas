{
 "cells": [
  {
   "cell_type": "markdown",
   "id": "e494236d-e2f0-4f69-a14c-cc6b075d3440",
   "metadata": {
    "slideshow": {
     "slide_type": "slide"
    }
   },
   "source": [
    "# Dealer Changeover PoC: Prescriptive Analytics Approach"
   ]
  },
  {
   "cell_type": "markdown",
   "id": "f60ac1f1",
   "metadata": {
    "slideshow": {
     "slide_type": "fragment"
    }
   },
   "source": [
    "Authors: Vusal Babashov & Evan Sinukoff"
   ]
  },
  {
   "cell_type": "markdown",
   "id": "6683ff2f",
   "metadata": {
    "slideshow": {
     "slide_type": "slide"
    }
   },
   "source": [
    "## Business Problem"
   ]
  },
  {
   "cell_type": "markdown",
   "id": "e34baeb7",
   "metadata": {
    "slideshow": {
     "slide_type": "subslide"
    }
   },
   "source": [
    "Given the string and store information, allocate resources efficiently to strings and stores. "
   ]
  },
  {
   "attachments": {
    "string.png": {
     "image/png": "[encoded data removed]"
    }
   },
   "cell_type": "markdown",
   "id": "2042915e",
   "metadata": {
    "slideshow": {
     "slide_type": "fragment"
    }
   },
   "source": [
    "![string.png](attachment:string.png)"
   ]
  },
  {
   "cell_type": "markdown",
   "id": "842c0e49",
   "metadata": {
    "slideshow": {
     "slide_type": "subslide"
    }
   },
   "source": [
    "## Model"
   ]
  },
  {
   "cell_type": "markdown",
   "id": "760f8ba8",
   "metadata": {
    "slideshow": {
     "slide_type": "fragment"
    }
   },
   "source": [
    " - Mixed Integer Programming\n",
    " - Python, Gurobi"
   ]
  },
  {
   "cell_type": "markdown",
   "id": "31b75919",
   "metadata": {
    "slideshow": {
     "slide_type": "subslide"
    }
   },
   "source": [
    "Indices and Sets"
   ]
  },
  {
   "cell_type": "markdown",
   "id": "ad2d322d",
   "metadata": {
    "slideshow": {
     "slide_type": "subslide"
    }
   },
   "source": [
    "- $i \\in I$:  Index and set of consultant and analysts\n",
    "- $k \\in K$:  Index and set of stores\n",
    "- $s \\in S$:  Index and set of strings\n",
    "- $n \\in N$:  Index and set of weeks"
   ]
  },
  {
   "cell_type": "markdown",
   "id": "09de6f7f",
   "metadata": {
    "slideshow": {
     "slide_type": "subslide"
    }
   },
   "source": [
    "- $I(k)$:  Set of people who can work in store $k$ (i.e., language, availability)\n",
    "- $I(s)$:  Set of people who can do all stores in the string $s$ (i.e., language and avaiability on $T_k$)\n",
    "- $I(n)$:  Set of people who are avaialable on week $n$ (i.e., vacations and blackout weeks)\n",
    "- $I_c$:   Set of consultants\n",
    "- $K(s)$:  Set of stores that belong string $s$ \n",
    "- $N(k)$:  Set of weeks in which store $k$ asset counts can be done (i.e., between 4 and 8 weeks prior to changeover date)\n"
   ]
  },
  {
   "cell_type": "markdown",
   "id": "6fcba4d4",
   "metadata": {
    "slideshow": {
     "slide_type": "slide"
    }
   },
   "source": [
    "### Parameters"
   ]
  },
  {
   "cell_type": "markdown",
   "id": "40200a1f",
   "metadata": {
    "slideshow": {
     "slide_type": "slide"
    }
   },
   "source": [
    "- $T_{k}$ $\\in\\mathbb{N}$: Changeover week at a store $k\\in K$\n",
    "- $D_{k}$ $\\in\\mathbb{N}$ : Number of person-weeks required for asset listing at store $k \\in K$  (i.e., one person for every 10,000 sf)\n",
    "- $r_{ik}$: Distance between home province for consultant/analyst $i$ and store $k$ "
   ]
  },
  {
   "cell_type": "markdown",
   "id": "473a47f2",
   "metadata": {
    "slideshow": {
     "slide_type": "slide"
    }
   },
   "source": [
    "### Decision Variables:"
   ]
  },
  {
   "cell_type": "markdown",
   "id": "7b237d0d",
   "metadata": {
    "slideshow": {
     "slide_type": "slide"
    }
   },
   "source": [
    "- $y_{is} \\in \\{0,1\\}$:   Equals 1 if consultant $i\\in I$ is assigned to string $s \\in S$, 0 otherwise\n",
    "- $x_{ik} \\in \\{0,1\\}$:   Equals 1 if consultant $i\\in I_c$ is assigned to changeover at store $k \\in K$, 0 otherwise\n",
    "<!-- - $Extra_{ik} \\in \\{0,1\\}$:   Equals 1 if consultant $i\\in I_c$ is assigned to changeover at store $k \\in K$, 0 otherwise -->\n",
    "- $u_{ikn} \\in \\{0,1\\}$:  Equals 1 if consultant/analysts $i\\in I$, is assigned to asset counts at store $k \\in K$ on week $n \\in N$, 0 otherwise\n",
    "- $z_{kn} \\in\\mathbb{N}$: Number of extra staff required to satisfy the requirements of store $k \\in K$ asset counts on week $n \\in N$\n",
    "- $w$ : Auxilary variable to track the number of extra staff\n"
   ]
  },
  {
   "cell_type": "markdown",
   "id": "475007c0",
   "metadata": {
    "slideshow": {
     "slide_type": "slide"
    }
   },
   "source": [
    "### Objective Function"
   ]
  },
  {
   "cell_type": "markdown",
   "id": "e4de19ae-359e-4cc8-b9a6-2b4dc4a4e868",
   "metadata": {},
   "source": [
    "\\begin{equation}\n",
    "\\text{Min} \\quad \\sum_{i \\in I(k)} \\sum_{s \\in S} y_{is}\n",
    "\\end{equation}"
   ]
  },
  {
   "cell_type": "markdown",
   "id": "45d0207c",
   "metadata": {
    "slideshow": {
     "slide_type": "fragment"
    }
   },
   "source": [
    "Third Party Staff"
   ]
  },
  {
   "cell_type": "markdown",
   "id": "a8926d80",
   "metadata": {
    "slideshow": {
     "slide_type": "subslide"
    }
   },
   "source": [
    "\\begin{equation}\n",
    "\\text{Min} \\quad w \n",
    "\\end{equation}"
   ]
  },
  {
   "cell_type": "markdown",
   "id": "4a83d47f",
   "metadata": {
    "slideshow": {
     "slide_type": "fragment"
    }
   },
   "source": [
    "Total Distance"
   ]
  },
  {
   "cell_type": "markdown",
   "id": "a234c0e4",
   "metadata": {
    "slideshow": {
     "slide_type": "subslide"
    }
   },
   "source": [
    "\\begin{equation}\n",
    "\\text{Min} \\quad \\sum_{i \\in I(k)} \\sum_{k}  \\left (r_{ik} t_{ik}\\right)\n",
    "\\end{equation}"
   ]
  },
  {
   "cell_type": "markdown",
   "id": "4f64b153",
   "metadata": {
    "slideshow": {
     "slide_type": "fragment"
    }
   },
   "source": [
    "Fairness in Workload/Assignments"
   ]
  },
  {
   "cell_type": "markdown",
   "id": "ddcf05a8",
   "metadata": {
    "slideshow": {
     "slide_type": "subslide"
    }
   },
   "source": [
    "\\begin{equation}\n",
    "\\text{Min} \\quad \\{\\text{maxAssign} - \\text{minAssign} \\}\n",
    "\\end{equation}"
   ]
  },
  {
   "cell_type": "markdown",
   "id": "1481b258",
   "metadata": {
    "slideshow": {
     "slide_type": "slide"
    }
   },
   "source": [
    "### Constraints"
   ]
  },
  {
   "cell_type": "markdown",
   "id": "4f756157",
   "metadata": {
    "slideshow": {
     "slide_type": "subslide"
    }
   },
   "source": [
    "#### 1a. Staffing Requirements: Person-Week Requirement For Store Asset Counts"
   ]
  },
  {
   "cell_type": "markdown",
   "id": "190b9534",
   "metadata": {
    "slideshow": {
     "slide_type": "fragment"
    }
   },
   "source": [
    "\\begin{equation}\n",
    "\\sum_{n \\in N(k) } \\left( z_{kn}  + \\sum_{i \\in I(k) \\cap I(n) } u_{ikn} \\right)  = D_{k} \\quad \\forall\\; k \\in K\n",
    "\\end{equation}"
   ]
  },
  {
   "cell_type": "markdown",
   "id": "94a8f977-2eec-4ec0-9060-c80b42a3eebc",
   "metadata": {},
   "source": [
    "#### 1b. Ensure that analyst is not there alone on a given asset count week and store. e.g., There is always a consultant "
   ]
  },
  {
   "cell_type": "markdown",
   "id": "758bf731-59f4-4344-9b08-b95f2296ea45",
   "metadata": {},
   "source": [
    "\\begin{equation}\n",
    "\\sum_{i \\in I(k) \\cap I(n) } u_{ikn}   <= M* \\sum_{i \\in I(k) , I_c } u_{ikn}\\quad \\forall\\; k \\in K, n \\in N(k)\n",
    "\\end{equation}"
   ]
  },
  {
   "cell_type": "markdown",
   "id": "cf7895a1",
   "metadata": {
    "slideshow": {
     "slide_type": "subslide"
    }
   },
   "source": [
    "#### 2. Max One-Store Asset Count Per Week"
   ]
  },
  {
   "cell_type": "markdown",
   "id": "c94f6fd0",
   "metadata": {
    "slideshow": {
     "slide_type": "fragment"
    }
   },
   "source": [
    "\\begin{equation}\n",
    "\\sum_{k \\in K} u_{ikn}  <= 1 \\quad \\forall\\; i \\in I (k), n \\in N(k), \n",
    "\\end{equation}"
   ]
  },
  {
   "cell_type": "markdown",
   "id": "491248e2",
   "metadata": {
    "slideshow": {
     "slide_type": "subslide"
    }
   },
   "source": [
    "#### 3. Ensure either Asset Counts or Changeover on the Same Week"
   ]
  },
  {
   "cell_type": "markdown",
   "id": "51c94c10",
   "metadata": {
    "slideshow": {
     "slide_type": "fragment"
    }
   },
   "source": [
    "\\begin{equation}\n",
    "u_{ik'n} \\le (1 - x_{ik})  \\quad \\forall\\; i \\in I, k,k' \\in K\\,, k' \\ne k, n = T_k\n",
    "\\end{equation}"
   ]
  },
  {
   "cell_type": "markdown",
   "id": "902e5a60",
   "metadata": {
    "slideshow": {
     "slide_type": "subslide"
    }
   },
   "source": [
    "#### 4. One Consultant Per Each Store Changeover"
   ]
  },
  {
   "cell_type": "markdown",
   "id": "08fcf84c",
   "metadata": {
    "slideshow": {
     "slide_type": "fragment"
    }
   },
   "source": [
    "\\begin{equation}\n",
    "\\sum_{i \\in I(k) \\cap I_c \\cap I(T_k) } x_{ik} = 1 \\quad \\forall\\; k \\in K, \\;\n",
    "\\end{equation}"
   ]
  },
  {
   "cell_type": "markdown",
   "id": "9c46a511-ab14-41e1-88c9-01fe22755957",
   "metadata": {},
   "source": [
    "#### 5. Max One Store per Consultant on Each Changeover Week"
   ]
  },
  {
   "cell_type": "markdown",
   "id": "8773c5b8-c39f-4de0-aab3-29c412c3d2f1",
   "metadata": {},
   "source": [
    "\\begin{equation}\n",
    "\\sum_{k \\in K(T_k)} x_{ik} <= 1 \\quad \\forall\\; i \\in I(k) \\cap I_c \\cap I(T_k) , \\;\n",
    "\\end{equation}"
   ]
  },
  {
   "cell_type": "markdown",
   "id": "b0b3be4a-1e5f-4852-b943-1f517c795155",
   "metadata": {},
   "source": [
    "Applies to stores with the same changeover weeks "
   ]
  },
  {
   "cell_type": "markdown",
   "id": "61ba2068",
   "metadata": {
    "slideshow": {
     "slide_type": "subslide"
    }
   },
   "source": [
    "#### 6. Changeover - Asset Count Relationship"
   ]
  },
  {
   "cell_type": "markdown",
   "id": "c6a2d431",
   "metadata": {
    "slideshow": {
     "slide_type": "fragment"
    }
   },
   "source": [
    "\\begin{equation}\n",
    "x_{ik} <= \\sum_{n \\in N(k)} u_{ikn} \\quad \\forall\\; i \\in I(k), k \\in K\n",
    "\\end{equation}"
   ]
  },
  {
   "cell_type": "markdown",
   "id": "93b6de4e-61f3-41d7-be2b-5eefb09c432c",
   "metadata": {},
   "source": [
    "#### 7.Count the number of consultants assigned to the string"
   ]
  },
  {
   "cell_type": "markdown",
   "id": "85d45ab7-0c30-46dc-a0df-15d48b44cb6b",
   "metadata": {},
   "source": [
    "\\begin{equation}\n",
    "x_{ik} <= y_{is} \\quad \\forall\\; i \\in I(k), k \\in K(s), s \\in S\n",
    "\\end{equation}"
   ]
  },
  {
   "cell_type": "markdown",
   "id": "0fca1a54-b920-4956-a654-4e7a59ebf83a",
   "metadata": {},
   "source": [
    "---"
   ]
  },
  {
   "cell_type": "markdown",
   "id": "693017e8",
   "metadata": {
    "slideshow": {
     "slide_type": "subslide"
    }
   },
   "source": [
    "#### 8. Auxilary Constraint: Total Additional Resources Needed"
   ]
  },
  {
   "cell_type": "markdown",
   "id": "266824d8",
   "metadata": {
    "slideshow": {
     "slide_type": "fragment"
    }
   },
   "source": [
    "\\begin{equation}\n",
    "\\sum_{k}\\sum_{n \\in N(k)}  z_{kn}=  w\n",
    "\\end{equation}"
   ]
  },
  {
   "cell_type": "markdown",
   "id": "db2b4ebe",
   "metadata": {
    "slideshow": {
     "slide_type": "subslide"
    }
   },
   "source": [
    "#### 9.Auxilary Constraint: Assignment indicator for distance "
   ]
  },
  {
   "cell_type": "markdown",
   "id": "adff6b3a",
   "metadata": {
    "slideshow": {
     "slide_type": "fragment"
    }
   },
   "source": [
    "\\begin{equation}\n",
    " \\sum_{n\\in N(k)} u_{ikn} <= t_{ik}   \\quad \\forall\\; i \\in I (k), k \\in K\n",
    "\\end{equation}"
   ]
  },
  {
   "cell_type": "markdown",
   "id": "efb3605c",
   "metadata": {
    "slideshow": {
     "slide_type": "subslide"
    }
   },
   "source": [
    "#### 10. Auxilary Constraint: Fairness/Total Workload"
   ]
  },
  {
   "cell_type": "markdown",
   "id": "4fa6ade7",
   "metadata": {
    "slideshow": {
     "slide_type": "fragment"
    }
   },
   "source": [
    "\\begin{equation}\n",
    "\\sum_{k \\in K} \\sum_{n\\in N(k)} u_{ikn}  = \\text{totAssignments(i)} \\quad \\forall\\; i \\in I (k)\n",
    "\\end{equation}"
   ]
  },
  {
   "cell_type": "markdown",
   "id": "cb49242d",
   "metadata": {
    "slideshow": {
     "slide_type": "fragment"
    }
   },
   "source": [
    "\\begin{equation}\n",
    "\\text{maxNumAssign} = \\text{Max} \\{\\text{totAssignments}(i):  \\quad \\forall\\; i \\in I \\}\n",
    "\\end{equation}\n",
    "\\begin{equation}\n",
    "\\text{minNumAssign} = \\text{Min} \\{\\text{totAssignments}(i):  \\quad \\forall\\; i \\in I \\}  \n",
    "\\end{equation}"
   ]
  }
 ],
 "metadata": {
  "celltoolbar": "Slideshow",
  "kernelspec": {
   "display_name": "Python 3 (ipykernel)",
   "language": "python",
   "name": "python3"
  },
  "language_info": {
   "codemirror_mode": {
    "name": "ipython",
    "version": 3
   },
   "file_extension": ".py",
   "mimetype": "text/x-python",
   "name": "python",
   "nbconvert_exporter": "python",
   "pygments_lexer": "ipython3",
   "version": "3.9.16"
  },
  "rise": {
   "theme": "sky"
  }
 },
 "nbformat": 4,
 "nbformat_minor": 5
}
