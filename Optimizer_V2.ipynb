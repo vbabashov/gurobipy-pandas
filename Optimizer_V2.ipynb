{
 "cells": [
  {
   "cell_type": "markdown",
   "metadata": {
    "application/vnd.databricks.v1+cell": {
     "cellMetadata": {},
     "inputWidgets": {},
     "nuid": "67ddeb4f-940c-437e-bd44-7571229d3c7d",
     "showTitle": false,
     "title": ""
    },
    "slideshow": {
     "slide_type": "slide"
    }
   },
   "source": [
    "# Dealer Changeover PoC: Prescriptive Analytics Approach"
   ]
  },
  {
   "cell_type": "markdown",
   "metadata": {
    "application/vnd.databricks.v1+cell": {
     "cellMetadata": {},
     "inputWidgets": {},
     "nuid": "1a00d346-31d1-4851-857f-863d2168956e",
     "showTitle": false,
     "title": ""
    },
    "slideshow": {
     "slide_type": "fragment"
    }
   },
   "source": [
    "Authors: Vusal Babashov & Evan Sinukoff"
   ]
  },
  {
   "cell_type": "markdown",
   "metadata": {
    "application/vnd.databricks.v1+cell": {
     "cellMetadata": {},
     "inputWidgets": {},
     "nuid": "1f5f64d2-34e8-4a1d-b2d2-41fd6107bd23",
     "showTitle": false,
     "title": ""
    },
    "slideshow": {
     "slide_type": "slide"
    }
   },
   "source": [
    "## Business Problem"
   ]
  },
  {
   "cell_type": "markdown",
   "metadata": {
    "application/vnd.databricks.v1+cell": {
     "cellMetadata": {},
     "inputWidgets": {},
     "nuid": "595df4be-0b8d-4e61-87da-e51002dbd78b",
     "showTitle": false,
     "title": ""
    },
    "slideshow": {
     "slide_type": "subslide"
    }
   },
   "source": [
    "Given the string and store information, allocate resources efficiently to strings and stores. "
   ]
  },
  {
   "cell_type": "markdown",
   "metadata": {
    "application/vnd.databricks.v1+cell": {
     "cellMetadata": {},
     "inputWidgets": {},
     "nuid": "8114f7f1-0f38-4cf5-970d-4f6902486b1c",
     "showTitle": false,
     "title": ""
    },
    "slideshow": {
     "slide_type": "fragment"
    }
   },
   "source": [
    "![string.png](attachment:string.png)"
   ]
  },
  {
   "cell_type": "markdown",
   "metadata": {
    "application/vnd.databricks.v1+cell": {
     "cellMetadata": {},
     "inputWidgets": {},
     "nuid": "75d1c80e-efc1-46a7-a0a2-2fa10061bfca",
     "showTitle": false,
     "title": ""
    },
    "slideshow": {
     "slide_type": "subslide"
    }
   },
   "source": [
    "## Model"
   ]
  },
  {
   "cell_type": "markdown",
   "metadata": {
    "application/vnd.databricks.v1+cell": {
     "cellMetadata": {},
     "inputWidgets": {},
     "nuid": "a0cb71dd-dfa6-4319-9ece-f0d8a759f862",
     "showTitle": false,
     "title": ""
    },
    "slideshow": {
     "slide_type": "fragment"
    }
   },
   "source": [
    " - Mixed Integer Programming\n",
    " - Python, Gurobi"
   ]
  },
  {
   "cell_type": "markdown",
   "metadata": {
    "application/vnd.databricks.v1+cell": {
     "cellMetadata": {},
     "inputWidgets": {},
     "nuid": "e65c89d9-b79c-4c4b-ba50-044f9c2967e9",
     "showTitle": false,
     "title": ""
    },
    "slideshow": {
     "slide_type": "subslide"
    }
   },
   "source": [
    "Indices and Sets"
   ]
  },
  {
   "cell_type": "markdown",
   "metadata": {
    "application/vnd.databricks.v1+cell": {
     "cellMetadata": {},
     "inputWidgets": {},
     "nuid": "f2dc3bbb-0540-4ee0-93d9-9a61a54cc1f5",
     "showTitle": false,
     "title": ""
    },
    "slideshow": {
     "slide_type": "subslide"
    }
   },
   "source": [
    "- $i \\in I$:  Index and set of consultant and analysts\n",
    "- $k \\in K$:  Index and set of stores\n",
    "- $s \\in S$:  Index and set of strings\n",
    "- $n \\in N$:  Index and set of weeks"
   ]
  },
  {
   "cell_type": "markdown",
   "metadata": {
    "application/vnd.databricks.v1+cell": {
     "cellMetadata": {},
     "inputWidgets": {},
     "nuid": "dafe32cd-fc18-4036-888a-c60d2753f89a",
     "showTitle": false,
     "title": ""
    },
    "slideshow": {
     "slide_type": "subslide"
    }
   },
   "source": [
    "- $I(k)$:  Set of people who can work in store $k$ (i.e., language, availability)\n",
    "- $I(s)$:  Set of people who can do all stores in the string $s$ (i.e., language and avaiability on $T_k$)\n",
    "- $I(n)$:  Set of people who are avaialable on week $n$ (i.e., vacations and blackout weeks)\n",
    "- $I_c$:   Set of consultants\n",
    "- $K(s)$:  Set of stores that belong string $s$ \n",
    "- $N(k)$:  Set of weeks in which store $k$ asset counts can be done (i.e., between 4 and 8 weeks prior to changeover date)\n"
   ]
  },
  {
   "cell_type": "markdown",
   "metadata": {
    "application/vnd.databricks.v1+cell": {
     "cellMetadata": {},
     "inputWidgets": {},
     "nuid": "a871575b-99f7-4add-bcf0-9d66aeac7a22",
     "showTitle": false,
     "title": ""
    },
    "slideshow": {
     "slide_type": "slide"
    }
   },
   "source": [
    "### Parameters"
   ]
  },
  {
   "cell_type": "markdown",
   "metadata": {
    "application/vnd.databricks.v1+cell": {
     "cellMetadata": {},
     "inputWidgets": {},
     "nuid": "e344aa20-5f01-41f5-9e9c-7e5b10a1210a",
     "showTitle": false,
     "title": ""
    },
    "slideshow": {
     "slide_type": "slide"
    }
   },
   "source": [
    "- $T_{k}$ $\\in\\mathbb{N}$: Changeover week at a store $k\\in K$\n",
    "- $D_{k}$ $\\in\\mathbb{N}$ : Number of person-weeks required for asset listing at store $k \\in K$  (i.e., one person for every 10,000 sf)\n",
    "- $r_{ik}$: Distance between home province for consultant/analyst $i$ and store $k$ "
   ]
  },
  {
   "cell_type": "markdown",
   "metadata": {
    "application/vnd.databricks.v1+cell": {
     "cellMetadata": {},
     "inputWidgets": {},
     "nuid": "abb39e95-93fa-47fc-9820-a11f6b0f7cbb",
     "showTitle": false,
     "title": ""
    },
    "slideshow": {
     "slide_type": "slide"
    }
   },
   "source": [
    "### Decision Variables:"
   ]
  },
  {
   "cell_type": "markdown",
   "metadata": {
    "application/vnd.databricks.v1+cell": {
     "cellMetadata": {},
     "inputWidgets": {},
     "nuid": "c48431dc-5713-4e70-9209-5b0f2c3372c9",
     "showTitle": false,
     "title": ""
    },
    "slideshow": {
     "slide_type": "slide"
    }
   },
   "source": [
    "- $y_{is} \\in \\{0,1\\}$:   Equals 1 if consultant $i\\in I$ is assigned to string $s \\in S$, 0 otherwise\n",
    "- $x_{ik} \\in \\{0,1\\}$:   Equals 1 if consultant $i\\in I_c$ is assigned to changeover at store $k \\in K$, 0 otherwise\n",
    "<!-- - $Extra_{ik} \\in \\{0,1\\}$:   Equals 1 if consultant $i\\in I_c$ is assigned to changeover at store $k \\in K$, 0 otherwise -->\n",
    "- $u_{ikn} \\in \\{0,1\\}$:  Equals 1 if consultant/analysts $i\\in I$, is assigned to asset counts at store $k \\in K$ on week $n \\in N$, 0 otherwise\n",
    "- $z_{kn} \\in\\mathbb{N}$: Number of extra staff required to satisfy the requirements of store $k \\in K$ asset counts on week $n \\in N$\n",
    "- $w$ : Auxilary variable to track the number of extra staff\n"
   ]
  },
  {
   "cell_type": "markdown",
   "metadata": {
    "application/vnd.databricks.v1+cell": {
     "cellMetadata": {},
     "inputWidgets": {},
     "nuid": "1a13ef04-d990-4f9d-ae88-49026b326b21",
     "showTitle": false,
     "title": ""
    },
    "slideshow": {
     "slide_type": "slide"
    }
   },
   "source": [
    "### Objective Function"
   ]
  },
  {
   "cell_type": "markdown",
   "metadata": {
    "application/vnd.databricks.v1+cell": {
     "cellMetadata": {},
     "inputWidgets": {},
     "nuid": "5300fd5d-20df-4bea-8681-15e221c947e6",
     "showTitle": false,
     "title": ""
    }
   },
   "source": [
    "\\begin{equation}\n",
    "\\text{Min} \\quad \\sum_{i \\in I(k)} \\sum_{s \\in S} y_{is}\n",
    "\\end{equation}"
   ]
  },
  {
   "cell_type": "markdown",
   "metadata": {
    "application/vnd.databricks.v1+cell": {
     "cellMetadata": {},
     "inputWidgets": {},
     "nuid": "9fe3aa7b-36f6-4a02-9bfb-97e0aa077a4a",
     "showTitle": false,
     "title": ""
    },
    "slideshow": {
     "slide_type": "fragment"
    }
   },
   "source": [
    "Third Party Staff"
   ]
  },
  {
   "cell_type": "markdown",
   "metadata": {
    "application/vnd.databricks.v1+cell": {
     "cellMetadata": {},
     "inputWidgets": {},
     "nuid": "af27612b-b7e3-4784-85cc-65c0ce9d7a67",
     "showTitle": false,
     "title": ""
    },
    "slideshow": {
     "slide_type": "subslide"
    }
   },
   "source": [
    "\\begin{equation}\n",
    "\\text{Min} \\quad w \n",
    "\\end{equation}"
   ]
  },
  {
   "cell_type": "markdown",
   "metadata": {
    "application/vnd.databricks.v1+cell": {
     "cellMetadata": {},
     "inputWidgets": {},
     "nuid": "2f140a36-2270-4ca2-b0bf-edc6e13ba94c",
     "showTitle": false,
     "title": ""
    },
    "slideshow": {
     "slide_type": "fragment"
    }
   },
   "source": [
    "Total Distance"
   ]
  },
  {
   "cell_type": "markdown",
   "metadata": {
    "application/vnd.databricks.v1+cell": {
     "cellMetadata": {},
     "inputWidgets": {},
     "nuid": "a8e84928-b09c-47b8-8e79-9d333c7bf411",
     "showTitle": false,
     "title": ""
    },
    "slideshow": {
     "slide_type": "subslide"
    }
   },
   "source": [
    "\\begin{equation}\n",
    "\\text{Min} \\quad \\sum_{i \\in I(k)} \\sum_{k}  \\left (r_{ik} t_{ik}\\right)\n",
    "\\end{equation}"
   ]
  },
  {
   "cell_type": "markdown",
   "metadata": {
    "application/vnd.databricks.v1+cell": {
     "cellMetadata": {},
     "inputWidgets": {},
     "nuid": "4a9b50eb-e381-4a59-ad01-8d4735d0ac93",
     "showTitle": false,
     "title": ""
    },
    "slideshow": {
     "slide_type": "fragment"
    }
   },
   "source": [
    "Fairness in Workload/Assignments"
   ]
  },
  {
   "cell_type": "markdown",
   "metadata": {
    "application/vnd.databricks.v1+cell": {
     "cellMetadata": {},
     "inputWidgets": {},
     "nuid": "6e09ed7f-875e-4b35-8f27-f89668eec538",
     "showTitle": false,
     "title": ""
    },
    "slideshow": {
     "slide_type": "subslide"
    }
   },
   "source": [
    "\\begin{equation}\n",
    "\\text{Min} \\quad \\{\\text{maxAssign} - \\text{minAssign} \\}\n",
    "\\end{equation}"
   ]
  },
  {
   "cell_type": "markdown",
   "metadata": {
    "application/vnd.databricks.v1+cell": {
     "cellMetadata": {},
     "inputWidgets": {},
     "nuid": "96c9f56f-d0be-4761-89ff-1ff812f0bca8",
     "showTitle": false,
     "title": ""
    },
    "slideshow": {
     "slide_type": "slide"
    }
   },
   "source": [
    "### Constraints"
   ]
  },
  {
   "cell_type": "markdown",
   "metadata": {
    "application/vnd.databricks.v1+cell": {
     "cellMetadata": {},
     "inputWidgets": {},
     "nuid": "6d8f52a2-7393-4136-ab71-c270a939d9c9",
     "showTitle": false,
     "title": ""
    },
    "slideshow": {
     "slide_type": "subslide"
    }
   },
   "source": [
    "#### 1a. Staffing Requirements: Person-Week Requirement For Store Asset Counts"
   ]
  },
  {
   "cell_type": "markdown",
   "metadata": {
    "application/vnd.databricks.v1+cell": {
     "cellMetadata": {},
     "inputWidgets": {},
     "nuid": "cca9b10a-fe4b-4734-bbfd-d3dc07a93b36",
     "showTitle": false,
     "title": ""
    },
    "slideshow": {
     "slide_type": "fragment"
    }
   },
   "source": [
    "\\begin{equation}\n",
    "\\sum_{n \\in N(k) } \\left( z_{kn}  + \\sum_{i \\in I(k) \\cap I(n) } u_{ikn} \\right)  = D_{k} \\quad \\forall\\; k \\in K\n",
    "\\end{equation}"
   ]
  },
  {
   "cell_type": "markdown",
   "metadata": {
    "application/vnd.databricks.v1+cell": {
     "cellMetadata": {},
     "inputWidgets": {},
     "nuid": "a8279939-654f-4912-93f9-e19f1463fee5",
     "showTitle": false,
     "title": ""
    }
   },
   "source": [
    "#### 1b. Ensure that analyst is not there alone on a given asset count week and store. e.g., There is always a consultant "
   ]
  },
  {
   "cell_type": "markdown",
   "metadata": {
    "application/vnd.databricks.v1+cell": {
     "cellMetadata": {},
     "inputWidgets": {},
     "nuid": "439e6d2a-ffa9-403a-b0ca-98a42243e6e1",
     "showTitle": false,
     "title": ""
    }
   },
   "source": [
    "\\begin{equation}\n",
    "\\sum_{i \\in I(k) \\cap I(n) } u_{ikn}   <= M* \\sum_{i \\in I(k) , I_c } u_{ikn}\\quad \\forall\\; k \\in K, n \\in N(k)\n",
    "\\end{equation}"
   ]
  },
  {
   "cell_type": "markdown",
   "metadata": {
    "application/vnd.databricks.v1+cell": {
     "cellMetadata": {},
     "inputWidgets": {},
     "nuid": "a723152c-06f9-4a1c-b933-3eb5f13ebf6c",
     "showTitle": false,
     "title": ""
    },
    "slideshow": {
     "slide_type": "subslide"
    }
   },
   "source": [
    "#### 2. Max One-Store Asset Count Per Week"
   ]
  },
  {
   "cell_type": "markdown",
   "metadata": {
    "application/vnd.databricks.v1+cell": {
     "cellMetadata": {},
     "inputWidgets": {},
     "nuid": "ef15f22b-2d0f-437f-9957-508b2ad59a1d",
     "showTitle": false,
     "title": ""
    },
    "slideshow": {
     "slide_type": "fragment"
    }
   },
   "source": [
    "\\begin{equation}\n",
    "\\sum_{k \\in K} u_{ikn}  <= 1 \\quad \\forall\\; i \\in I (k), n \\in N(k), \n",
    "\\end{equation}"
   ]
  },
  {
   "cell_type": "markdown",
   "metadata": {
    "application/vnd.databricks.v1+cell": {
     "cellMetadata": {},
     "inputWidgets": {},
     "nuid": "c15b5743-0c22-467b-a193-bdb49681eada",
     "showTitle": false,
     "title": ""
    },
    "slideshow": {
     "slide_type": "subslide"
    }
   },
   "source": [
    "#### 3. Ensure either Asset Counts or Changeover on the Same Week"
   ]
  },
  {
   "cell_type": "markdown",
   "metadata": {
    "application/vnd.databricks.v1+cell": {
     "cellMetadata": {},
     "inputWidgets": {},
     "nuid": "ee67a1e6-87b1-4721-bff5-f2a90367263a",
     "showTitle": false,
     "title": ""
    },
    "slideshow": {
     "slide_type": "fragment"
    }
   },
   "source": [
    "\\begin{equation}\n",
    "u_{ik'n} \\le (1 - x_{ik})  \\quad \\forall\\; i \\in I, k,k' \\in K\\,, k' \\ne k, n = T_k\n",
    "\\end{equation}"
   ]
  },
  {
   "cell_type": "markdown",
   "metadata": {
    "application/vnd.databricks.v1+cell": {
     "cellMetadata": {},
     "inputWidgets": {},
     "nuid": "c7f0d3a9-4b92-41c6-ac83-5949db17a4a5",
     "showTitle": false,
     "title": ""
    },
    "slideshow": {
     "slide_type": "subslide"
    }
   },
   "source": [
    "#### 4. One Consultant Per Each Store Changeover"
   ]
  },
  {
   "cell_type": "markdown",
   "metadata": {
    "application/vnd.databricks.v1+cell": {
     "cellMetadata": {},
     "inputWidgets": {},
     "nuid": "6cf5e141-3444-4161-993d-ec84078752e4",
     "showTitle": false,
     "title": ""
    },
    "slideshow": {
     "slide_type": "fragment"
    }
   },
   "source": [
    "\\begin{equation}\n",
    "\\sum_{i \\in I(k) \\cap I_c \\cap I(T_k) } x_{ik} = 1 \\quad \\forall\\; k \\in K, \\;\n",
    "\\end{equation}"
   ]
  },
  {
   "cell_type": "markdown",
   "metadata": {
    "application/vnd.databricks.v1+cell": {
     "cellMetadata": {},
     "inputWidgets": {},
     "nuid": "2eb91baa-7221-4806-bccb-479ad34dd448",
     "showTitle": false,
     "title": ""
    }
   },
   "source": [
    "#### 5. Max One Store per Consultant on Each Changeover Week"
   ]
  },
  {
   "cell_type": "markdown",
   "metadata": {
    "application/vnd.databricks.v1+cell": {
     "cellMetadata": {},
     "inputWidgets": {},
     "nuid": "1f265a8e-b95c-467e-8ccb-11219e91d4b6",
     "showTitle": false,
     "title": ""
    }
   },
   "source": [
    "\\begin{equation}\n",
    "\\sum_{k \\in K(T_k)} x_{ik} <= 1 \\quad \\forall\\; i \\in I(k) \\cap I_c \\cap I(T_k) , \\;\n",
    "\\end{equation}"
   ]
  },
  {
   "cell_type": "markdown",
   "metadata": {
    "application/vnd.databricks.v1+cell": {
     "cellMetadata": {},
     "inputWidgets": {},
     "nuid": "caba1b64-d902-42b5-b0b4-04d937da9654",
     "showTitle": false,
     "title": ""
    }
   },
   "source": [
    "Applies to stores with the same changeover weeks "
   ]
  },
  {
   "cell_type": "markdown",
   "metadata": {
    "application/vnd.databricks.v1+cell": {
     "cellMetadata": {},
     "inputWidgets": {},
     "nuid": "6e2247c6-aca6-4480-9deb-ea4fef1c4a1b",
     "showTitle": false,
     "title": ""
    },
    "slideshow": {
     "slide_type": "subslide"
    }
   },
   "source": [
    "#### 6. Changeover - Asset Count Relationship"
   ]
  },
  {
   "cell_type": "markdown",
   "metadata": {
    "application/vnd.databricks.v1+cell": {
     "cellMetadata": {},
     "inputWidgets": {},
     "nuid": "0e68aa8e-0f4e-4095-8f3b-229054103f27",
     "showTitle": false,
     "title": ""
    },
    "slideshow": {
     "slide_type": "fragment"
    }
   },
   "source": [
    "\\begin{equation}\n",
    "x_{ik} <= \\sum_{n \\in N(k)} u_{ikn} \\quad \\forall\\; i \\in I(k), k \\in K\n",
    "\\end{equation}"
   ]
  },
  {
   "cell_type": "markdown",
   "metadata": {
    "application/vnd.databricks.v1+cell": {
     "cellMetadata": {},
     "inputWidgets": {},
     "nuid": "284fd643-38ba-4534-898c-262cb5197bf0",
     "showTitle": false,
     "title": ""
    }
   },
   "source": [
    "#### 7.Count the number of consultants assigned to the string"
   ]
  },
  {
   "cell_type": "markdown",
   "metadata": {
    "application/vnd.databricks.v1+cell": {
     "cellMetadata": {},
     "inputWidgets": {},
     "nuid": "7ae6e3e1-1715-4397-9795-1134816060c5",
     "showTitle": false,
     "title": ""
    }
   },
   "source": [
    "\\begin{equation}\n",
    "x_{ik} <= y_{is} \\quad \\forall\\; i \\in I(k), k \\in K(s), s \\in S\n",
    "\\end{equation}"
   ]
  },
  {
   "cell_type": "markdown",
   "metadata": {
    "application/vnd.databricks.v1+cell": {
     "cellMetadata": {},
     "inputWidgets": {},
     "nuid": "d2fafc4c-3ea7-43cd-a51d-987caa1b50a5",
     "showTitle": false,
     "title": ""
    }
   },
   "source": [
    "---"
   ]
  },
  {
   "cell_type": "markdown",
   "metadata": {
    "application/vnd.databricks.v1+cell": {
     "cellMetadata": {},
     "inputWidgets": {},
     "nuid": "8e4c3c70-02d9-43a1-b842-2f0fb543504d",
     "showTitle": false,
     "title": ""
    },
    "slideshow": {
     "slide_type": "subslide"
    }
   },
   "source": [
    "#### 8. Auxilary Constraint: Total Additional Resources Needed"
   ]
  },
  {
   "cell_type": "markdown",
   "metadata": {
    "application/vnd.databricks.v1+cell": {
     "cellMetadata": {},
     "inputWidgets": {},
     "nuid": "18295648-9269-4858-8602-d1297a1337ac",
     "showTitle": false,
     "title": ""
    },
    "slideshow": {
     "slide_type": "fragment"
    }
   },
   "source": [
    "\\begin{equation}\n",
    "\\sum_{k}\\sum_{n \\in N(k)}  z_{kn}=  w\n",
    "\\end{equation}"
   ]
  },
  {
   "cell_type": "markdown",
   "metadata": {
    "application/vnd.databricks.v1+cell": {
     "cellMetadata": {},
     "inputWidgets": {},
     "nuid": "1ef200fd-7adc-4db9-ae5d-6b3c977f5c81",
     "showTitle": false,
     "title": ""
    },
    "slideshow": {
     "slide_type": "subslide"
    }
   },
   "source": [
    "#### 9.Auxilary Constraint: Assignment indicator for distance "
   ]
  },
  {
   "cell_type": "markdown",
   "metadata": {
    "application/vnd.databricks.v1+cell": {
     "cellMetadata": {},
     "inputWidgets": {},
     "nuid": "4b3435af-5943-47ec-b01e-c79c775b7a89",
     "showTitle": false,
     "title": ""
    },
    "slideshow": {
     "slide_type": "fragment"
    }
   },
   "source": [
    "\\begin{equation}\n",
    " \\sum_{n\\in N(k)} u_{ikn} <= t_{ik}   \\quad \\forall\\; i \\in I (k), k \\in K\n",
    "\\end{equation}"
   ]
  },
  {
   "cell_type": "markdown",
   "metadata": {
    "application/vnd.databricks.v1+cell": {
     "cellMetadata": {},
     "inputWidgets": {},
     "nuid": "2ca4d8ce-aff7-43c0-9106-ee3e8121c336",
     "showTitle": false,
     "title": ""
    },
    "slideshow": {
     "slide_type": "subslide"
    }
   },
   "source": [
    "#### 10. Auxilary Constraint: Fairness/Total Workload"
   ]
  },
  {
   "cell_type": "markdown",
   "metadata": {
    "application/vnd.databricks.v1+cell": {
     "cellMetadata": {},
     "inputWidgets": {},
     "nuid": "505c7e61-3366-426a-a703-8fe8a778b843",
     "showTitle": false,
     "title": ""
    },
    "slideshow": {
     "slide_type": "fragment"
    }
   },
   "source": [
    "\\begin{equation}\n",
    "\\sum_{k \\in K} \\sum_{n\\in N(k)} u_{ikn}  = \\text{totAssignments(i)} \\quad \\forall\\; i \\in I (k)\n",
    "\\end{equation}"
   ]
  },
  {
   "cell_type": "markdown",
   "metadata": {
    "application/vnd.databricks.v1+cell": {
     "cellMetadata": {},
     "inputWidgets": {},
     "nuid": "782d1a5d-170d-41df-8e28-7e9569b18e50",
     "showTitle": false,
     "title": ""
    },
    "slideshow": {
     "slide_type": "fragment"
    }
   },
   "source": [
    "\\begin{equation}\n",
    "\\text{maxNumAssign} = \\text{Max} \\{\\text{totAssignments}(i):  \\quad \\forall\\; i \\in I \\}\n",
    "\\end{equation}\n",
    "\\begin{equation}\n",
    "\\text{minNumAssign} = \\text{Min} \\{\\text{totAssignments}(i):  \\quad \\forall\\; i \\in I \\}  \n",
    "\\end{equation}"
   ]
  },
  {
   "cell_type": "markdown",
   "metadata": {
    "application/vnd.databricks.v1+cell": {
     "cellMetadata": {},
     "inputWidgets": {},
     "nuid": "1d181928-4b8d-4835-9b8c-b5f9e298dbda",
     "showTitle": false,
     "title": ""
    },
    "slideshow": {
     "slide_type": "slide"
    }
   },
   "source": [
    "#### Demo Results"
   ]
  },
  {
   "cell_type": "markdown",
   "metadata": {
    "application/vnd.databricks.v1+cell": {
     "cellMetadata": {},
     "inputWidgets": {},
     "nuid": "5c3cee8e-29e0-4b57-82ed-4c784fa7d4a6",
     "showTitle": false,
     "title": ""
    },
    "slideshow": {
     "slide_type": "slide"
    }
   },
   "source": [
    "![string_workload.png](attachment:string_workload.png)"
   ]
  },
  {
   "cell_type": "markdown",
   "metadata": {
    "application/vnd.databricks.v1+cell": {
     "cellMetadata": {},
     "inputWidgets": {},
     "nuid": "d1d0bba5-f5be-4881-ae9c-d2e28e9b70e1",
     "showTitle": false,
     "title": ""
    },
    "slideshow": {
     "slide_type": "slide"
    }
   },
   "source": [
    "![changeover.png](attachment:changeover.png)"
   ]
  },
  {
   "cell_type": "markdown",
   "metadata": {
    "application/vnd.databricks.v1+cell": {
     "cellMetadata": {},
     "inputWidgets": {},
     "nuid": "7642e49a-0ed8-4548-8976-3679c81fce4c",
     "showTitle": false,
     "title": ""
    },
    "slideshow": {
     "slide_type": "slide"
    }
   },
   "source": [
    "![assets.png](attachment:assets.png)"
   ]
  },
  {
   "cell_type": "markdown",
   "metadata": {
    "application/vnd.databricks.v1+cell": {
     "cellMetadata": {},
     "inputWidgets": {},
     "nuid": "6ccf4ee3-0331-4df6-a4e7-5ef32ac1dda7",
     "showTitle": false,
     "title": ""
    },
    "slideshow": {
     "slide_type": "slide"
    }
   },
   "source": [
    "##### See Heatmap For Detailed Assignments"
   ]
  },
  {
   "cell_type": "markdown",
   "metadata": {
    "application/vnd.databricks.v1+cell": {
     "cellMetadata": {},
     "inputWidgets": {},
     "nuid": "d4df4c8f-00d7-4877-a125-30c60f7f555c",
     "showTitle": false,
     "title": ""
    },
    "slideshow": {
     "slide_type": "slide"
    }
   },
   "source": [
    "#### Future Work:"
   ]
  },
  {
   "cell_type": "markdown",
   "metadata": {
    "application/vnd.databricks.v1+cell": {
     "cellMetadata": {},
     "inputWidgets": {},
     "nuid": "589f76a8-2668-4630-a673-78a75cf6a640",
     "showTitle": false,
     "title": ""
    },
    "slideshow": {
     "slide_type": "subslide"
    }
   },
   "source": [
    " - Vacations\n",
    " - Duplicate store records in a given string with different changeover dates\n",
    " - Training, Retiring Dealers\n",
    " - Changeover as a decision variable?\n",
    " - Dealers running two stores at the same time?\n",
    " - Heatmap improvements"
   ]
  },
  {
   "cell_type": "markdown",
   "metadata": {
    "application/vnd.databricks.v1+cell": {
     "cellMetadata": {},
     "inputWidgets": {},
     "nuid": "5de327c2-a379-4c37-b2c7-f04f7ae31cd4",
     "showTitle": false,
     "title": ""
    },
    "slideshow": {
     "slide_type": "slide"
    }
   },
   "source": [
    "#### Next Steps:"
   ]
  },
  {
   "cell_type": "markdown",
   "metadata": {
    "application/vnd.databricks.v1+cell": {
     "cellMetadata": {},
     "inputWidgets": {},
     "nuid": "f7d60d3e-7d06-4d72-ba94-f06c34d3fef0",
     "showTitle": false,
     "title": ""
    },
    "slideshow": {
     "slide_type": "subslide"
    }
   },
   "source": [
    " - Feedback on quality of solution\n",
    " - Go or No-go Decision"
   ]
  },
  {
   "cell_type": "markdown",
   "metadata": {
    "application/vnd.databricks.v1+cell": {
     "cellMetadata": {},
     "inputWidgets": {},
     "nuid": "cdc536db-1c32-4f5a-afb7-199200621bb1",
     "showTitle": false,
     "title": ""
    },
    "slideshow": {
     "slide_type": "slide"
    }
   },
   "source": [
    "End.."
   ]
  }
 ],
 "metadata": {
  "application/vnd.databricks.v1+notebook": {
   "dashboards": [],
   "environmentMetadata": {
    "base_environment": "",
    "client": "1"
   },
   "language": "python",
   "notebookMetadata": {
    "pythonIndentUnit": 4
   },
   "notebookName": "Optimizer_V2",
   "widgets": {}
  },
  "celltoolbar": "Slideshow",
  "kernelspec": {
   "display_name": "Python 3 (ipykernel)",
   "language": "python",
   "name": "python3"
  },
  "language_info": {
   "codemirror_mode": {
    "name": "ipython",
    "version": 3
   },
   "file_extension": ".py",
   "mimetype": "text/x-python",
   "name": "python",
   "nbconvert_exporter": "python",
   "pygments_lexer": "ipython3",
   "version": "3.9.16"
  },
  "rise": {
   "theme": "sky"
  }
 },
 "nbformat": 4,
 "nbformat_minor": 0
}
