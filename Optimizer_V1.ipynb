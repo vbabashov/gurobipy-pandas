{
 "cells": [
  {
   "cell_type": "markdown",
   "metadata": {
    "application/vnd.databricks.v1+cell": {
     "cellMetadata": {},
     "inputWidgets": {},
     "nuid": "10fc95a3-ba38-4f36-8503-783edf8239b3",
     "showTitle": false,
     "title": ""
    },
    "slideshow": {
     "slide_type": "slide"
    }
   },
   "source": [
    "# Dealer Changeover PoC: Prescriptive Analytics Approach"
   ]
  },
  {
   "cell_type": "markdown",
   "metadata": {
    "application/vnd.databricks.v1+cell": {
     "cellMetadata": {},
     "inputWidgets": {},
     "nuid": "4c101d5f-626c-4588-94ba-dc2ecdc4a8c4",
     "showTitle": false,
     "title": ""
    },
    "slideshow": {
     "slide_type": "fragment"
    }
   },
   "source": [
    "Authors: Vusal Babashov & Evan Sinukoff"
   ]
  },
  {
   "cell_type": "markdown",
   "metadata": {
    "application/vnd.databricks.v1+cell": {
     "cellMetadata": {},
     "inputWidgets": {},
     "nuid": "340c8f80-7df8-463c-a211-1e17691c5d9b",
     "showTitle": false,
     "title": ""
    },
    "slideshow": {
     "slide_type": "slide"
    }
   },
   "source": [
    "## Business Problem"
   ]
  },
  {
   "cell_type": "markdown",
   "metadata": {
    "application/vnd.databricks.v1+cell": {
     "cellMetadata": {},
     "inputWidgets": {},
     "nuid": "ebb3467d-08bf-4c00-afa6-05e953065081",
     "showTitle": false,
     "title": ""
    },
    "slideshow": {
     "slide_type": "subslide"
    }
   },
   "source": [
    "Given the string and store information, allocate resources efficiently to strings and stores. "
   ]
  },
  {
   "cell_type": "markdown",
   "metadata": {
    "application/vnd.databricks.v1+cell": {
     "cellMetadata": {},
     "inputWidgets": {},
     "nuid": "7c045b89-e6cd-4eb0-aa16-93fccc806191",
     "showTitle": false,
     "title": ""
    },
    "slideshow": {
     "slide_type": "fragment"
    }
   },
   "source": [
    "![string.png](attachment:string.png)"
   ]
  },
  {
   "cell_type": "markdown",
   "metadata": {
    "application/vnd.databricks.v1+cell": {
     "cellMetadata": {},
     "inputWidgets": {},
     "nuid": "1de84410-955d-4ecf-9dfc-32110eab9259",
     "showTitle": false,
     "title": ""
    },
    "slideshow": {
     "slide_type": "subslide"
    }
   },
   "source": [
    "## Model"
   ]
  },
  {
   "cell_type": "markdown",
   "metadata": {
    "application/vnd.databricks.v1+cell": {
     "cellMetadata": {},
     "inputWidgets": {},
     "nuid": "7d06d324-b4e2-4d74-9147-ee260d35f92e",
     "showTitle": false,
     "title": ""
    },
    "slideshow": {
     "slide_type": "fragment"
    }
   },
   "source": [
    " - Mixed Integer Programming\n",
    " - Python, Gurobi"
   ]
  },
  {
   "cell_type": "markdown",
   "metadata": {
    "application/vnd.databricks.v1+cell": {
     "cellMetadata": {},
     "inputWidgets": {},
     "nuid": "69f3a4f3-7c29-4d74-b30f-8e6fc90a9fbf",
     "showTitle": false,
     "title": ""
    },
    "slideshow": {
     "slide_type": "subslide"
    }
   },
   "source": [
    "Indices and Sets"
   ]
  },
  {
   "cell_type": "markdown",
   "metadata": {
    "application/vnd.databricks.v1+cell": {
     "cellMetadata": {},
     "inputWidgets": {},
     "nuid": "183f08a3-92b7-4646-aae5-a3d1bd2a46dd",
     "showTitle": false,
     "title": ""
    },
    "slideshow": {
     "slide_type": "subslide"
    }
   },
   "source": [
    "- $i \\in I$:  Index and set of consultant and analysts\n",
    "- $k \\in K$:  Index and set of stores\n",
    "- $s \\in S$:  Index and set of strings\n",
    "- $n \\in N$:  Index and set of weeks"
   ]
  },
  {
   "cell_type": "markdown",
   "metadata": {
    "application/vnd.databricks.v1+cell": {
     "cellMetadata": {},
     "inputWidgets": {},
     "nuid": "1e085d10-caed-4452-8528-658ac2cdf61c",
     "showTitle": false,
     "title": ""
    },
    "slideshow": {
     "slide_type": "subslide"
    }
   },
   "source": [
    "- $I(k)$:  Set of people who can work in store $k$ (i.e., language, availability)\n",
    "- $I(s)$:  Set of people who can do all stores in the string $s$ (i.e., language and avaiability on $T_k$)\n",
    "- $I(n)$:  Set of people who are avaialable on week $n$ (i.e., vacations and blackout weeks)\n",
    "- $I_c$:   Set of consultants\n",
    "- $K(s)$:  Set of stores that belong string $s$ \n",
    "- $N(k)$:  Set of weeks in which store $k$ asset counts can be done (i.e., between 4 and 8 weeks prior to changeover date)\n"
   ]
  },
  {
   "cell_type": "markdown",
   "metadata": {
    "application/vnd.databricks.v1+cell": {
     "cellMetadata": {},
     "inputWidgets": {},
     "nuid": "1cb9eee4-dd9d-4302-ab8b-75b8acdb2c0d",
     "showTitle": false,
     "title": ""
    },
    "slideshow": {
     "slide_type": "slide"
    }
   },
   "source": [
    "### Parameters"
   ]
  },
  {
   "cell_type": "markdown",
   "metadata": {
    "application/vnd.databricks.v1+cell": {
     "cellMetadata": {},
     "inputWidgets": {},
     "nuid": "45d7fdf6-d774-4b5e-aee9-d511045b03f4",
     "showTitle": false,
     "title": ""
    },
    "slideshow": {
     "slide_type": "slide"
    }
   },
   "source": [
    "- $T_{k}$ $\\in\\mathbb{N}$: Changeover week at a store $k\\in K$\n",
    "- $D_{k}$ $\\in\\mathbb{N}$ : Number of person-weeks required for asset listing at store $k \\in K$  (i.e., one person for every 10,000 sf)\n",
    "- $r_{ik}$: Distance between home province for consultant/analyst $i$ and store $k$ "
   ]
  },
  {
   "cell_type": "markdown",
   "metadata": {
    "application/vnd.databricks.v1+cell": {
     "cellMetadata": {},
     "inputWidgets": {},
     "nuid": "e80bc25b-771e-421e-9243-adc167d01662",
     "showTitle": false,
     "title": ""
    },
    "slideshow": {
     "slide_type": "slide"
    }
   },
   "source": [
    "### Decision Variables:"
   ]
  },
  {
   "cell_type": "markdown",
   "metadata": {
    "application/vnd.databricks.v1+cell": {
     "cellMetadata": {},
     "inputWidgets": {},
     "nuid": "b97d8d16-b9da-4605-a88b-5f9dc8fa0e19",
     "showTitle": false,
     "title": ""
    },
    "slideshow": {
     "slide_type": "slide"
    }
   },
   "source": [
    "- $y_{is} \\in \\{0,1\\}$:   Equals 1 if consultant $i\\in I$ is assigned to string $s \\in S$, 0 otherwise\n",
    "- $x_{ik} \\in \\{0,1\\}$:   Equals 1 if consultant $i\\in I_c$ is assigned to changeover at store $k \\in K$, 0 otherwise\n",
    "- $Extra_{ik} \\in \\{0,1\\}$:   Equals 1 if consultant $i\\in I_c$ is assigned to changeover at store $k \\in K$, 0 otherwise\n",
    "- $u_{ikn} \\in \\{0,1\\}$:  Equals 1 if consultant/analysts $i\\in I$, is assigned to asset counts at store $k \\in K$ on week $n \\in N$, 0 otherwise\n",
    "- $z_{kn} \\in\\mathbb{N}$: Number of extra staff required to satisfy the requirements of store $k \\in K$ asset counts on week $n \\in N$\n",
    "- $w$ : Auxilary variable to track the number of extra staff\n"
   ]
  },
  {
   "cell_type": "markdown",
   "metadata": {
    "application/vnd.databricks.v1+cell": {
     "cellMetadata": {},
     "inputWidgets": {},
     "nuid": "164dff79-e570-42cd-8a8d-9c6b78e19960",
     "showTitle": false,
     "title": ""
    },
    "slideshow": {
     "slide_type": "slide"
    }
   },
   "source": [
    "### Objective Function"
   ]
  },
  {
   "cell_type": "markdown",
   "metadata": {
    "application/vnd.databricks.v1+cell": {
     "cellMetadata": {},
     "inputWidgets": {},
     "nuid": "7aae022f-0fd7-4fc5-9cdc-2deaed52eaae",
     "showTitle": false,
     "title": ""
    },
    "slideshow": {
     "slide_type": "fragment"
    }
   },
   "source": [
    "Third Party Staff"
   ]
  },
  {
   "cell_type": "markdown",
   "metadata": {
    "application/vnd.databricks.v1+cell": {
     "cellMetadata": {},
     "inputWidgets": {},
     "nuid": "d35ca78f-e123-4256-bbdb-34ad9a1eea1f",
     "showTitle": false,
     "title": ""
    },
    "slideshow": {
     "slide_type": "subslide"
    }
   },
   "source": [
    "\\begin{equation}\n",
    "\\text{Min} \\quad w \n",
    "\\end{equation}"
   ]
  },
  {
   "cell_type": "markdown",
   "metadata": {
    "application/vnd.databricks.v1+cell": {
     "cellMetadata": {},
     "inputWidgets": {},
     "nuid": "9cc8f2a9-6b0b-46dd-90ea-e07f2abee097",
     "showTitle": false,
     "title": ""
    },
    "slideshow": {
     "slide_type": "fragment"
    }
   },
   "source": [
    "Total Distance"
   ]
  },
  {
   "cell_type": "markdown",
   "metadata": {
    "application/vnd.databricks.v1+cell": {
     "cellMetadata": {},
     "inputWidgets": {},
     "nuid": "fd633ff0-74cc-40f7-97d6-09f49f16c504",
     "showTitle": false,
     "title": ""
    },
    "slideshow": {
     "slide_type": "subslide"
    }
   },
   "source": [
    "\\begin{equation}\n",
    "\\text{Min} \\quad \\sum_{i \\in I(k)} \\sum_{k}  \\left (r_{ik} t_{ik}\\right)\n",
    "\\end{equation}"
   ]
  },
  {
   "cell_type": "markdown",
   "metadata": {
    "application/vnd.databricks.v1+cell": {
     "cellMetadata": {},
     "inputWidgets": {},
     "nuid": "5c992067-b0cc-493b-b972-879ba3c05982",
     "showTitle": false,
     "title": ""
    },
    "slideshow": {
     "slide_type": "fragment"
    }
   },
   "source": [
    "Fairness in Workload/Assignments"
   ]
  },
  {
   "cell_type": "markdown",
   "metadata": {
    "application/vnd.databricks.v1+cell": {
     "cellMetadata": {},
     "inputWidgets": {},
     "nuid": "01045399-4323-4bcd-a87f-a96401ba0819",
     "showTitle": false,
     "title": ""
    },
    "slideshow": {
     "slide_type": "subslide"
    }
   },
   "source": [
    "\\begin{equation}\n",
    "\\text{Min} \\quad \\{\\text{maxAssign} - \\text{minAssign} \\}\n",
    "\\end{equation}"
   ]
  },
  {
   "cell_type": "markdown",
   "metadata": {
    "application/vnd.databricks.v1+cell": {
     "cellMetadata": {},
     "inputWidgets": {},
     "nuid": "d566c4f4-bbb4-4bd2-90c9-1a835717c324",
     "showTitle": false,
     "title": ""
    },
    "slideshow": {
     "slide_type": "slide"
    }
   },
   "source": [
    "### Constraints"
   ]
  },
  {
   "cell_type": "markdown",
   "metadata": {
    "application/vnd.databricks.v1+cell": {
     "cellMetadata": {},
     "inputWidgets": {},
     "nuid": "f9d80b0c-7c1f-4767-9c99-03f66b0916c3",
     "showTitle": false,
     "title": ""
    },
    "slideshow": {
     "slide_type": "subslide"
    }
   },
   "source": [
    "#### 1a. Staffing Requirements: Person-Week Requirement For Store Asset Counts"
   ]
  },
  {
   "cell_type": "markdown",
   "metadata": {
    "application/vnd.databricks.v1+cell": {
     "cellMetadata": {},
     "inputWidgets": {},
     "nuid": "930e44f9-e249-449e-9e27-37ba0598406b",
     "showTitle": false,
     "title": ""
    },
    "slideshow": {
     "slide_type": "fragment"
    }
   },
   "source": [
    "\\begin{equation}\n",
    "\\sum_{n \\in N(k) } \\left( z_{kn}  + \\sum_{i \\in I(k) \\cap I(n) } u_{ikn} \\right)  = D_{k} \\quad \\forall\\; k \\in K\n",
    "\\end{equation}"
   ]
  },
  {
   "cell_type": "markdown",
   "metadata": {
    "application/vnd.databricks.v1+cell": {
     "cellMetadata": {},
     "inputWidgets": {},
     "nuid": "37720cb4-86a8-4980-9fc5-5ce56341d7ee",
     "showTitle": false,
     "title": ""
    }
   },
   "source": [
    "#### 1b. Ensure that analyst is not there alone on a given asset count week and store. e.g., There is always a consultant "
   ]
  },
  {
   "cell_type": "markdown",
   "metadata": {
    "application/vnd.databricks.v1+cell": {
     "cellMetadata": {},
     "inputWidgets": {},
     "nuid": "18b3261b-0c69-4705-be39-e283c9c90bed",
     "showTitle": false,
     "title": ""
    }
   },
   "source": [
    "\\begin{equation}\n",
    "\\sum_{i \\in I(k) \\cap I(n) } u_{ikn}   <= \\sum_{i \\in I(k) } x_{ik}\\quad \\forall\\; k \\in K, n \\in N(k)\n",
    "\\end{equation}"
   ]
  },
  {
   "cell_type": "markdown",
   "metadata": {
    "application/vnd.databricks.v1+cell": {
     "cellMetadata": {},
     "inputWidgets": {},
     "nuid": "4b430157-f4cc-4888-9640-833208d32ad5",
     "showTitle": false,
     "title": ""
    },
    "slideshow": {
     "slide_type": "subslide"
    }
   },
   "source": [
    "#### 2. Max One-Store Asset Count Per Week"
   ]
  },
  {
   "cell_type": "markdown",
   "metadata": {
    "application/vnd.databricks.v1+cell": {
     "cellMetadata": {},
     "inputWidgets": {},
     "nuid": "a1b6ae31-7cc9-495e-8d2a-4a11ec779d77",
     "showTitle": false,
     "title": ""
    },
    "slideshow": {
     "slide_type": "fragment"
    }
   },
   "source": [
    "\\begin{equation}\n",
    "\\sum_{k \\in K} u_{ikn}  <= 1 \\quad \\forall\\; i \\in I (k), n \\in N(k), \n",
    "\\end{equation}"
   ]
  },
  {
   "cell_type": "markdown",
   "metadata": {
    "application/vnd.databricks.v1+cell": {
     "cellMetadata": {},
     "inputWidgets": {},
     "nuid": "6d7568c0-8bc8-410b-8475-97c7ce95ec82",
     "showTitle": false,
     "title": ""
    },
    "slideshow": {
     "slide_type": "subslide"
    }
   },
   "source": [
    "#### 3. Ensure either Asset Counts or Changeover on the Same Week"
   ]
  },
  {
   "cell_type": "markdown",
   "metadata": {
    "application/vnd.databricks.v1+cell": {
     "cellMetadata": {},
     "inputWidgets": {},
     "nuid": "940bcb6e-564c-49f6-b3f8-d09b84d62b38",
     "showTitle": false,
     "title": ""
    },
    "slideshow": {
     "slide_type": "fragment"
    }
   },
   "source": [
    "a \n",
    "\\begin{equation}\n",
    "u_{ik'n} \\le (1 - x_{ik})  \\quad \\forall\\; i \\in I, k,k' \\in K\\,, k' \\ne k, n = T_k\n",
    "\\end{equation}"
   ]
  },
  {
   "cell_type": "markdown",
   "metadata": {
    "application/vnd.databricks.v1+cell": {
     "cellMetadata": {},
     "inputWidgets": {},
     "nuid": "4e625a2b-dcb4-41f8-b053-9a21feb66ffe",
     "showTitle": false,
     "title": ""
    }
   },
   "source": [
    "b\n",
    "\\begin{equation}\n",
    "u_{ik'n} \\le (1 - Extra_{ik})  \\quad \\forall\\; i \\in I, k,k' \\in K\\,, k' \\ne k, n = T_k\n",
    "\\end{equation}"
   ]
  },
  {
   "cell_type": "markdown",
   "metadata": {
    "application/vnd.databricks.v1+cell": {
     "cellMetadata": {},
     "inputWidgets": {},
     "nuid": "8bcd3e2a-6759-4ae1-ba0c-f0309d212000",
     "showTitle": false,
     "title": ""
    },
    "slideshow": {
     "slide_type": "subslide"
    }
   },
   "source": [
    "#### 4. One Consultant Per Each Store Changeover"
   ]
  },
  {
   "cell_type": "markdown",
   "metadata": {
    "application/vnd.databricks.v1+cell": {
     "cellMetadata": {},
     "inputWidgets": {},
     "nuid": "aa88dbfb-8099-4459-b896-7ef3a6bd8df1",
     "showTitle": false,
     "title": ""
    },
    "slideshow": {
     "slide_type": "fragment"
    }
   },
   "source": [
    "\\begin{equation}\n",
    "\\sum_{i \\in I(k) \\cap I_c \\cap I(T_k) } (Extra_{ik} +  x_{ik}) = 1 \\quad \\forall\\; k \\in K, \\;\n",
    "\\end{equation}"
   ]
  },
  {
   "cell_type": "markdown",
   "metadata": {
    "application/vnd.databricks.v1+cell": {
     "cellMetadata": {},
     "inputWidgets": {},
     "nuid": "26decf3e-99d9-447d-a60d-6c4db321bf36",
     "showTitle": false,
     "title": ""
    }
   },
   "source": [
    "#### 5. Max One Store per Consultant on Each (Changeover) Week"
   ]
  },
  {
   "cell_type": "markdown",
   "metadata": {
    "application/vnd.databricks.v1+cell": {
     "cellMetadata": {},
     "inputWidgets": {},
     "nuid": "f4b3e409-aaab-4508-b180-30104f81d084",
     "showTitle": false,
     "title": ""
    }
   },
   "source": [
    "\\begin{equation}\n",
    "\\sum_{k \\in K} (x_{ik} + Extra_{ik}) <= 1 \\quad \\forall\\; i \\in I(k) \\cap I_c \\cap I(T_k) , \\;\n",
    "\\end{equation}"
   ]
  },
  {
   "cell_type": "markdown",
   "metadata": {
    "application/vnd.databricks.v1+cell": {
     "cellMetadata": {},
     "inputWidgets": {},
     "nuid": "dec3b956-b145-4774-b885-50cb1eecb9e5",
     "showTitle": false,
     "title": ""
    },
    "slideshow": {
     "slide_type": "subslide"
    }
   },
   "source": [
    "#### 6. One consultant Per Each String"
   ]
  },
  {
   "cell_type": "markdown",
   "metadata": {
    "application/vnd.databricks.v1+cell": {
     "cellMetadata": {},
     "inputWidgets": {},
     "nuid": "a50c5d6b-8cc1-4707-8177-2553abd16a70",
     "showTitle": false,
     "title": ""
    },
    "slideshow": {
     "slide_type": "fragment"
    }
   },
   "source": [
    "\\begin{equation}\n",
    "\\sum_{i \\in I(s) \\cap I_c} y_{is} >= 1 \\quad \\forall\\; s \\in S, \\;\n",
    "\\end{equation}"
   ]
  },
  {
   "cell_type": "markdown",
   "metadata": {
    "application/vnd.databricks.v1+cell": {
     "cellMetadata": {},
     "inputWidgets": {},
     "nuid": "ca9a7299-14c4-4300-8071-dd49c2e66c79",
     "showTitle": false,
     "title": ""
    },
    "slideshow": {
     "slide_type": "skip"
    }
   },
   "source": [
    "#### 7. String - Asset Count Relationship"
   ]
  },
  {
   "cell_type": "markdown",
   "metadata": {
    "application/vnd.databricks.v1+cell": {
     "cellMetadata": {},
     "inputWidgets": {},
     "nuid": "6013698d-582c-49d0-b009-3740ff7ae00c",
     "showTitle": false,
     "title": ""
    },
    "slideshow": {
     "slide_type": "skip"
    }
   },
   "source": [
    "\\begin{equation}\n",
    "y_{is} <= \\sum_{n \\in N(k)} u_{ikn} \\quad \\forall\\; i \\in I(s), k \\in K(s), s \\in S\n",
    "\\end{equation}"
   ]
  },
  {
   "cell_type": "markdown",
   "metadata": {
    "application/vnd.databricks.v1+cell": {
     "cellMetadata": {},
     "inputWidgets": {},
     "nuid": "ca3e508d-7bca-4861-a659-c6d5b5652050",
     "showTitle": false,
     "title": ""
    },
    "slideshow": {
     "slide_type": "subslide"
    }
   },
   "source": [
    "#### 8. Changeover - Asset Count Relationship"
   ]
  },
  {
   "cell_type": "markdown",
   "metadata": {
    "application/vnd.databricks.v1+cell": {
     "cellMetadata": {},
     "inputWidgets": {},
     "nuid": "c61e04d0-5b2b-4320-a484-c32421ee68b0",
     "showTitle": false,
     "title": ""
    },
    "slideshow": {
     "slide_type": "fragment"
    }
   },
   "source": [
    "a\n",
    "\\begin{equation}\n",
    "x_{ik} <= \\sum_{n \\in N(k)} u_{ikn} \\quad \\forall\\; i \\in I(k), k \\in K\n",
    "\\end{equation}"
   ]
  },
  {
   "cell_type": "markdown",
   "metadata": {
    "application/vnd.databricks.v1+cell": {
     "cellMetadata": {},
     "inputWidgets": {},
     "nuid": "e2551676-f9c2-4587-90ef-29baadc39aa1",
     "showTitle": false,
     "title": ""
    }
   },
   "source": [
    "b\n",
    "\\begin{equation}\n",
    "Extra_{ik} <= \\sum_{n \\in N(k)} u_{ikn} \\quad \\forall\\; i \\in I(k), k \\in K\n",
    "\\end{equation}"
   ]
  },
  {
   "cell_type": "markdown",
   "metadata": {
    "application/vnd.databricks.v1+cell": {
     "cellMetadata": {},
     "inputWidgets": {},
     "nuid": "301a34f4-02da-429b-8a0c-e5354e2b6668",
     "showTitle": false,
     "title": ""
    },
    "slideshow": {
     "slide_type": "subslide"
    }
   },
   "source": [
    "#### 9. String - Changeover Relationship"
   ]
  },
  {
   "cell_type": "markdown",
   "metadata": {
    "application/vnd.databricks.v1+cell": {
     "cellMetadata": {},
     "inputWidgets": {},
     "nuid": "d5b8ee8c-3676-4ecf-b61c-e1fddf3bac1c",
     "showTitle": false,
     "title": ""
    },
    "slideshow": {
     "slide_type": "fragment"
    }
   },
   "source": [
    "\\begin{equation}\n",
    "y_{is} <=  (x_{ik} + Extra_{ik}) \\quad \\forall\\; i \\in I(s), k \\in K(s), s \\in S\n",
    "\\end{equation}"
   ]
  },
  {
   "cell_type": "markdown",
   "metadata": {
    "application/vnd.databricks.v1+cell": {
     "cellMetadata": {},
     "inputWidgets": {},
     "nuid": "2c8deff0-0beb-4e81-a408-8d35b23d1636",
     "showTitle": false,
     "title": ""
    }
   },
   "source": [
    "---"
   ]
  },
  {
   "cell_type": "markdown",
   "metadata": {
    "application/vnd.databricks.v1+cell": {
     "cellMetadata": {},
     "inputWidgets": {},
     "nuid": "84211be1-67ff-416a-a449-766115d5ec4d",
     "showTitle": false,
     "title": ""
    },
    "slideshow": {
     "slide_type": "subslide"
    }
   },
   "source": [
    "#### 10. Auxilary Constraint: Total Additional Resources Needed"
   ]
  },
  {
   "cell_type": "markdown",
   "metadata": {
    "application/vnd.databricks.v1+cell": {
     "cellMetadata": {},
     "inputWidgets": {},
     "nuid": "640eef79-630c-4ee7-9225-dafb9c88f5fc",
     "showTitle": false,
     "title": ""
    },
    "slideshow": {
     "slide_type": "fragment"
    }
   },
   "source": [
    "\\begin{equation}\n",
    "\\sum_{k}\\sum_{n \\in N(k)}  z_{kn} +  \\sum_{i \\in I(k)}\\sum_{k} Extra_{ik}=  w\n",
    "\\end{equation}"
   ]
  },
  {
   "cell_type": "markdown",
   "metadata": {
    "application/vnd.databricks.v1+cell": {
     "cellMetadata": {},
     "inputWidgets": {},
     "nuid": "c8438161-fc5f-443c-9f25-3a6e9cc3451a",
     "showTitle": false,
     "title": ""
    },
    "slideshow": {
     "slide_type": "subslide"
    }
   },
   "source": [
    "#### 11.Auxilary Constraint: Assignment indicator for distance "
   ]
  },
  {
   "cell_type": "markdown",
   "metadata": {
    "application/vnd.databricks.v1+cell": {
     "cellMetadata": {},
     "inputWidgets": {},
     "nuid": "0ad29ec9-b3b1-4031-a084-3029163b59ff",
     "showTitle": false,
     "title": ""
    },
    "slideshow": {
     "slide_type": "fragment"
    }
   },
   "source": [
    "\\begin{equation}\n",
    " \\sum_{n\\in N(k)} u_{ikn} <= t_{ik}   \\quad \\forall\\; i \\in I (k), k \\in K\n",
    "\\end{equation}"
   ]
  },
  {
   "cell_type": "markdown",
   "metadata": {
    "application/vnd.databricks.v1+cell": {
     "cellMetadata": {},
     "inputWidgets": {},
     "nuid": "11c743b2-1cbf-4313-ba26-287d2a7ecfc9",
     "showTitle": false,
     "title": ""
    },
    "slideshow": {
     "slide_type": "subslide"
    }
   },
   "source": [
    "#### 12. Auxilary Constraint: Fairness/Total Workload"
   ]
  },
  {
   "cell_type": "markdown",
   "metadata": {
    "application/vnd.databricks.v1+cell": {
     "cellMetadata": {},
     "inputWidgets": {},
     "nuid": "1eba4121-2975-4e10-b6e4-c3255d2995ab",
     "showTitle": false,
     "title": ""
    },
    "slideshow": {
     "slide_type": "fragment"
    }
   },
   "source": [
    "\\begin{equation}\n",
    "\\sum_{k \\in K} \\sum_{n\\in N(k)} u_{ikn}  = \\text{totAssignments(i)} \\quad \\forall\\; i \\in I (k)\n",
    "\\end{equation}"
   ]
  },
  {
   "cell_type": "markdown",
   "metadata": {
    "application/vnd.databricks.v1+cell": {
     "cellMetadata": {},
     "inputWidgets": {},
     "nuid": "b6e6fcd9-297c-48a5-b791-e2a9ce0f3dad",
     "showTitle": false,
     "title": ""
    },
    "slideshow": {
     "slide_type": "fragment"
    }
   },
   "source": [
    "\\begin{equation}\n",
    "\\text{maxNumAssign} = \\text{Max} \\{\\text{totAssignments}(i):  \\quad \\forall\\; i \\in I \\}\n",
    "\\end{equation}\n",
    "\\begin{equation}\n",
    "\\text{minNumAssign} = \\text{Min} \\{\\text{totAssignments}(i):  \\quad \\forall\\; i \\in I \\}  \n",
    "\\end{equation}"
   ]
  },
  {
   "cell_type": "code",
   "execution_count": 0,
   "metadata": {
    "application/vnd.databricks.v1+cell": {
     "cellMetadata": {},
     "inputWidgets": {},
     "nuid": "50539b7c-7164-47bb-adeb-40d47e779c38",
     "showTitle": false,
     "title": ""
    }
   },
   "outputs": [],
   "source": []
  },
  {
   "cell_type": "code",
   "execution_count": 0,
   "metadata": {
    "application/vnd.databricks.v1+cell": {
     "cellMetadata": {},
     "inputWidgets": {},
     "nuid": "b4333ef1-b00b-433e-b6f4-cbe2bc556eda",
     "showTitle": false,
     "title": ""
    }
   },
   "outputs": [],
   "source": []
  },
  {
   "cell_type": "code",
   "execution_count": 0,
   "metadata": {
    "application/vnd.databricks.v1+cell": {
     "cellMetadata": {},
     "inputWidgets": {},
     "nuid": "9b83e1e3-e11f-4ee2-bbd2-9e74c4a34e6c",
     "showTitle": false,
     "title": ""
    }
   },
   "outputs": [],
   "source": []
  },
  {
   "cell_type": "markdown",
   "metadata": {
    "application/vnd.databricks.v1+cell": {
     "cellMetadata": {},
     "inputWidgets": {},
     "nuid": "ec4e8a9c-05e7-47e8-8f8f-408f2f2cc6f1",
     "showTitle": false,
     "title": ""
    },
    "slideshow": {
     "slide_type": "slide"
    }
   },
   "source": [
    "#### Demo Results"
   ]
  },
  {
   "cell_type": "markdown",
   "metadata": {
    "application/vnd.databricks.v1+cell": {
     "cellMetadata": {},
     "inputWidgets": {},
     "nuid": "a6e75c3d-33e7-4179-b0d2-1440f49c5178",
     "showTitle": false,
     "title": ""
    },
    "slideshow": {
     "slide_type": "slide"
    }
   },
   "source": [
    "![string_workload.png](attachment:string_workload.png)"
   ]
  },
  {
   "cell_type": "markdown",
   "metadata": {
    "application/vnd.databricks.v1+cell": {
     "cellMetadata": {},
     "inputWidgets": {},
     "nuid": "062608c8-6aa6-4964-965a-86306f38d2f8",
     "showTitle": false,
     "title": ""
    },
    "slideshow": {
     "slide_type": "slide"
    }
   },
   "source": [
    "![changeover.png](attachment:changeover.png)"
   ]
  },
  {
   "cell_type": "markdown",
   "metadata": {
    "application/vnd.databricks.v1+cell": {
     "cellMetadata": {},
     "inputWidgets": {},
     "nuid": "1fc0b895-986b-4abe-8140-16c96873c3f7",
     "showTitle": false,
     "title": ""
    },
    "slideshow": {
     "slide_type": "slide"
    }
   },
   "source": [
    "![assets.png](attachment:assets.png)"
   ]
  },
  {
   "cell_type": "markdown",
   "metadata": {
    "application/vnd.databricks.v1+cell": {
     "cellMetadata": {},
     "inputWidgets": {},
     "nuid": "04a5bdab-02be-4674-a06c-77ede4c7d1d4",
     "showTitle": false,
     "title": ""
    },
    "slideshow": {
     "slide_type": "slide"
    }
   },
   "source": [
    "##### See Heatmap For Detailed Assignments"
   ]
  },
  {
   "cell_type": "markdown",
   "metadata": {
    "application/vnd.databricks.v1+cell": {
     "cellMetadata": {},
     "inputWidgets": {},
     "nuid": "e588d9ae-db77-4628-9748-5e1695b84a7d",
     "showTitle": false,
     "title": ""
    },
    "slideshow": {
     "slide_type": "slide"
    }
   },
   "source": [
    "#### Future Work:"
   ]
  },
  {
   "cell_type": "markdown",
   "metadata": {
    "application/vnd.databricks.v1+cell": {
     "cellMetadata": {},
     "inputWidgets": {},
     "nuid": "6733782a-bbbf-4b87-9e11-913cdb3bc599",
     "showTitle": false,
     "title": ""
    },
    "slideshow": {
     "slide_type": "subslide"
    }
   },
   "source": [
    " - Vacations\n",
    " - Duplicate store records in a given string with different changeover dates\n",
    " - Training, Retiring Dealers\n",
    " - Changeover as a decision variable?\n",
    " - Dealers running two stores at the same time?\n",
    " - Heatmap improvements"
   ]
  },
  {
   "cell_type": "markdown",
   "metadata": {
    "application/vnd.databricks.v1+cell": {
     "cellMetadata": {},
     "inputWidgets": {},
     "nuid": "0c7a3c1f-993f-4682-8052-bd9917b91c6d",
     "showTitle": false,
     "title": ""
    },
    "slideshow": {
     "slide_type": "slide"
    }
   },
   "source": [
    "#### Next Steps:"
   ]
  },
  {
   "cell_type": "markdown",
   "metadata": {
    "application/vnd.databricks.v1+cell": {
     "cellMetadata": {},
     "inputWidgets": {},
     "nuid": "6af7e571-3486-49a0-8d4d-e917238b829b",
     "showTitle": false,
     "title": ""
    },
    "slideshow": {
     "slide_type": "subslide"
    }
   },
   "source": [
    " - Feedback on quality of solution\n",
    " - Go or No-go Decision"
   ]
  },
  {
   "cell_type": "markdown",
   "metadata": {
    "application/vnd.databricks.v1+cell": {
     "cellMetadata": {},
     "inputWidgets": {},
     "nuid": "05a54a2d-dff5-4fb8-837e-9f8385f49c59",
     "showTitle": false,
     "title": ""
    },
    "slideshow": {
     "slide_type": "slide"
    }
   },
   "source": [
    "End.."
   ]
  }
 ],
 "metadata": {
  "application/vnd.databricks.v1+notebook": {
   "dashboards": [],
   "environmentMetadata": null,
   "language": "python",
   "notebookMetadata": {},
   "notebookName": "Optimizer_V1",
   "widgets": {}
  },
  "celltoolbar": "Slideshow",
  "kernelspec": {
   "display_name": "Python 3 (ipykernel)",
   "language": "python",
   "name": "python3"
  },
  "language_info": {
   "codemirror_mode": {
    "name": "ipython",
    "version": 3
   },
   "file_extension": ".py",
   "mimetype": "text/x-python",
   "name": "python",
   "nbconvert_exporter": "python",
   "pygments_lexer": "ipython3",
   "version": "3.9.16"
  },
  "rise": {
   "theme": "sky"
  }
 },
 "nbformat": 4,
 "nbformat_minor": 0
}
